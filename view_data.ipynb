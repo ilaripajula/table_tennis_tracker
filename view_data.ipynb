{
 "cells": [
  {
   "cell_type": "code",
   "execution_count": 39,
   "id": "9362d077-ba66-4eeb-9189-a8511eec716c",
   "metadata": {},
   "outputs": [],
   "source": [
    "# importing libraries\n",
    "import cv2\n",
    "import numpy as np\n",
    "import time\n",
    "import pandas as pd\n",
    "import os\n",
    "import matplotlib.pyplot as plt\n",
    "import math"
   ]
  },
  {
   "cell_type": "code",
   "execution_count": 47,
   "id": "076cc33a-fc95-4b79-9293-84d7839ec1f9",
   "metadata": {},
   "outputs": [],
   "source": [
    "seg_masks = set([int(s.replace('.png', '')) for s in os.listdir('./test_3/segmentation_masks')[1:]])\n",
    "ball_loc = pd.read_json('./test_3/ball_markup.json')\n",
    "events = pd.read_json('./test_3/events_markup.json', typ='series')\n",
    "\n",
    "font = cv2.FONT_HERSHEY_SIMPLEX\n",
    "org = (50, 50)\n",
    "fontScale = 1\n",
    "color = (255, 0, 0)\n",
    "thickness = 2\n",
    "\n",
    "# Create a VideoCapture object and read from input file\n",
    "cap = cv2.VideoCapture('./test_3.mp4')\n",
    "fps = 120\n",
    "# Check if camera opened successfully\n",
    "if (cap.isOpened()== False):\n",
    "    print(\"Error opening video file\")\n",
    "  \n",
    "# Read until video is completed\n",
    "frame_i = 0\n",
    "while(cap.isOpened()):\n",
    "# Capture frame-by-frame\n",
    "    ret, frame = cap.read()\n",
    "    if ret == True:\n",
    "        frame_i += 1\n",
    "        if frame_i in seg_masks:\n",
    "            #mask = cv2.imread(f'./test_3/segmentation_masks/{frame_i}.png')\n",
    "            #mask = cv2.resize(mask, (frame.shape[1], frame.shape[0]), interpolation = cv2.INTER_AREA)\n",
    "            #frame = cv2.addWeighted(mask,0.4,frame,0.1,0)\n",
    "            pass\n",
    "        if frame_i in ball_loc:\n",
    "            #cv2.imwrite(f'./test_3/frames/{frame_i}.jpg', frame)\n",
    "            center_coordinates = tuple(ball_loc[frame_i])\n",
    "            frame = cv2.circle(frame, center_coordinates, radius=10, color=(0, 255, 0), thickness=5)\n",
    "        if frame_i in events:\n",
    "            frame = cv2.putText(frame, events[frame_i], org, font, fontScale, color, thickness, cv2.LINE_AA)\n",
    "        cv2.imshow('Frame', frame)\n",
    "        \n",
    "    # Press Q on keyboard to exit\n",
    "        if cv2.waitKey(int(1)) & 0xFF == ord('q'):\n",
    "            break\n",
    "\n",
    "# Break the loop\n",
    "    else:\n",
    "        break\n",
    "  \n",
    "# When everything done, release\n",
    "# the video capture object\n",
    "cap.release()\n",
    "  \n",
    "# Closes all the frames\n",
    "cv2.destroyAllWindows()"
   ]
  },
  {
   "cell_type": "code",
   "execution_count": 29,
   "id": "91ee7c01-6a75-40e8-adaa-44c4069327ef",
   "metadata": {},
   "outputs": [
    {
     "data": {
      "text/plain": [
       "997"
      ]
     },
     "execution_count": 29,
     "metadata": {},
     "output_type": "execute_result"
    }
   ],
   "source": [
    "ball_loc.columns[0]"
   ]
  },
  {
   "cell_type": "code",
   "execution_count": 40,
   "id": "1fcd0d48-3330-46d3-8160-90c0b671a0da",
   "metadata": {},
   "outputs": [
    {
     "data": {
      "text/plain": [
       "<matplotlib.image.AxesImage at 0x28e813d4eb0>"
      ]
     },
     "execution_count": 40,
     "metadata": {},
     "output_type": "execute_result"
    },
    {
     "data": {
      "image/png": "[encoded data removed]",
      "text/plain": [
       "<Figure size 432x288 with 1 Axes>"
      ]
     },
     "metadata": {
      "needs_background": "light"
     },
     "output_type": "display_data"
    }
   ],
   "source": [
    "from scipy.stats import multivariate_normal\n",
    "\n",
    "h = 50\n",
    "w = 50\n",
    "\n",
    "origins = [(20,20)]\n",
    "\n",
    "def gaussian_2d(x=0, y=0, mx=0, my=0, sx=1, sy=1):\n",
    "    return 1 / (2*math.pi*sx*sy) * \\\n",
    "      np.exp(-((x - mx)**2 / (2*sx**2) + (y - my)**2 / (2*sy**2)))\n",
    "\n",
    "x = np.linspace(0, h, h)\n",
    "y = np.linspace(0, w, w)\n",
    "x, y = np.meshgrid(x, y)\n",
    "\n",
    "z = np.zeros((h, w))\n",
    "for x0, y0 in origins:\n",
    "    z += gaussian_2d(x, y, mx=x0, my=y0, sx=h/10, sy=w/10)\n",
    "\n",
    "\n",
    "plt.imshow(z)"
   ]
  },
  {
   "cell_type": "code",
   "execution_count": null,
   "id": "8fcc611a-fdbf-4cf0-bc17-04d605abd817",
   "metadata": {},
   "outputs": [],
   "source": []
  }
 ],
 "metadata": {
  "kernelspec": {
   "display_name": "Python 3",
   "language": "python",
   "name": "python3"
  },
  "language_info": {
   "codemirror_mode": {
    "name": "ipython",
    "version": 3
   },
   "file_extension": ".py",
   "mimetype": "text/x-python",
   "name": "python",
   "nbconvert_exporter": "python",
   "pygments_lexer": "ipython3",
   "version": "3.8.8"
  }
 },
 "nbformat": 4,
 "nbformat_minor": 5
}
